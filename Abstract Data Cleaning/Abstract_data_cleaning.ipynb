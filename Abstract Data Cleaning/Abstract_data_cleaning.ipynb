{
 "cells": [
  {
   "cell_type": "code",
   "execution_count": 1,
   "id": "c3f3f7b5",
   "metadata": {},
   "outputs": [],
   "source": [
    "filename = \"endnote_qualreviews_abstractsonly_03-10.txt\"\n",
    "file = open(filename, \"rt\")\n",
    "text = file.read()\n",
    "file.close()"
   ]
  },
  {
   "cell_type": "code",
   "execution_count": 2,
   "id": "5c8c4f3f",
   "metadata": {},
   "outputs": [],
   "source": [
    "import nltk"
   ]
  },
  {
   "cell_type": "code",
   "execution_count": 3,
   "id": "88732aa7",
   "metadata": {},
   "outputs": [],
   "source": [
    "from nltk import sent_tokenize\n",
    "from nltk.tokenize import word_tokenize"
   ]
  },
  {
   "cell_type": "code",
   "execution_count": 4,
   "id": "c89b0b27",
   "metadata": {},
   "outputs": [],
   "source": [
    "import re"
   ]
  },
  {
   "cell_type": "code",
   "execution_count": 5,
   "id": "ca98d2ac",
   "metadata": {},
   "outputs": [],
   "source": [
    "#1. Normalising characters so that distinctions between upper and lowercase words are not made.\n",
    "text_normalised = text.lower()"
   ]
  },
  {
   "cell_type": "code",
   "execution_count": 6,
   "id": "32f2cf6d",
   "metadata": {},
   "outputs": [
    {
     "name": "stdout",
     "output_type": "stream",
     "text": [
      "2018 vitamin d supplementation and its influence on muscle strength and mobility in community‐dwelling older persons a systematic review and meta‐analysisrosendahlriise h spielau u ranhoff ah et al vitamin d supplementation and its influence on muscle strength and mobility in communitydwelling older persons a systematic review and metaanalysis journal of human nutrition and dietetics 2016 30 315 malden massachusetts wileyblackwell 31 825826\n",
      "\ta correction to the article vitamin d supplementation and its influence on muscle strength and mobility in communitydwelling older persons a systematic review and metaanalysis that was published in 2016 issue of the periodical is presented\n",
      "\n",
      "2020 205  building and using an apps library for people living with dementia and their carers international psychogeriatrics 32s1 3941\n",
      "\tmaurice mulvenna school of computing ulster university for soo hun digital health  care northern ireland health and social care boardpresentation 1 apps library as a digital re\n"
     ]
    }
   ],
   "source": [
    "#Removing punctuation.\n",
    "import string\n",
    "table = str.maketrans('', '', string.punctuation)\n",
    "text_punt = text_normalised.translate(table)\n",
    "print(text_punt[:1000])"
   ]
  },
  {
   "cell_type": "code",
   "execution_count": 7,
   "id": "a791cbab",
   "metadata": {},
   "outputs": [],
   "source": [
    "#Removal of words that are 2 characters in length - this is for the removal of words that will not be within the stopwords dictionary when using the NLTK module.\n",
    "#e.g et al\n",
    "text_removed = ' '.join( [w for w in text_punt.split() if len(w)>2] )\n"
   ]
  },
  {
   "cell_type": "code",
   "execution_count": 8,
   "id": "f1e4f6ba",
   "metadata": {},
   "outputs": [
    {
     "name": "stdout",
     "output_type": "stream",
     "text": [
      "2018 vitamin supplementation and its influence muscle strength and mobility community‐dwelling older persons systematic review and meta‐analysisrosendahlriise spielau ranhoff vitamin supplementation and its influence muscle strength and mobility communitydwelling older persons systematic review and metaanalysis journal human nutrition and dietetics 2016 315 malden massachusetts wileyblackwell 825826 correction the article vitamin supplementation and its influence muscle strength and mobility communitydwelling older persons systematic review and metaanalysis that was published 2016 issue the periodical presented 2020 205 building and using apps library for people living with dementia and their carers international psychogeriatrics 32s1 3941 maurice mulvenna school computing ulster university for soo hun digital health care northern ireland health and social care boardpresentation apps library digital resource for people living with dementia and carers soo hun programme manager digital \n"
     ]
    }
   ],
   "source": [
    "print(text_removed[:1000])"
   ]
  },
  {
   "cell_type": "code",
   "execution_count": 9,
   "id": "e26d6aed",
   "metadata": {},
   "outputs": [],
   "source": [
    "#2. Split text into sentences\n",
    "#Dividing strings into a list of substrings.\n",
    "abstract_sentences = sent_tokenize(text_removed)\n"
   ]
  },
  {
   "cell_type": "code",
   "execution_count": 10,
   "id": "4dc25fc7",
   "metadata": {},
   "outputs": [
    {
     "name": "stdout",
     "output_type": "stream",
     "text": [
      "['\\ufeff2018', 'vitamin', 'supplementation', 'and', 'its', 'influence', 'muscle', 'strength', 'and', 'mobility', 'community‐dwelling', 'older', 'persons', 'systematic', 'review', 'and', 'meta‐analysisrosendahlriise', 'spielau', 'ranhoff', 'vitamin', 'supplementation', 'and', 'its', 'influence', 'muscle', 'strength', 'and', 'mobility', 'communitydwelling', 'older', 'persons', 'systematic', 'review', 'and', 'metaanalysis', 'journal', 'human', 'nutrition', 'and', 'dietetics', '2016', '315', 'malden', 'massachusetts', 'wileyblackwell', '825826', 'correction', 'the', 'article', 'vitamin', 'supplementation', 'and', 'its', 'influence', 'muscle', 'strength', 'and', 'mobility', 'communitydwelling', 'older', 'persons', 'systematic', 'review', 'and', 'metaanalysis', 'that', 'was', 'published', '2016', 'issue', 'the', 'periodical', 'presented', '2020', '205', 'building', 'and', 'using', 'apps', 'library', 'for', 'people', 'living', 'with', 'dementia', 'and', 'their', 'carers', 'international', 'psychogeriatrics', '32s1', '3941', 'maurice', 'mulvenna', 'school', 'computing', 'ulster', 'university', 'for', 'soo']\n"
     ]
    }
   ],
   "source": [
    "#3. Split sentences into tokens\n",
    "abstract_tokens = word_tokenize(text_removed)\n",
    "print(abstract_tokens[:100])"
   ]
  },
  {
   "cell_type": "code",
   "execution_count": 11,
   "id": "b0189621",
   "metadata": {},
   "outputs": [
    {
     "name": "stdout",
     "output_type": "stream",
     "text": [
      "['vitamin', 'supplementation', 'and', 'its', 'influence', 'muscle', 'strength', 'and', 'mobility', 'older', 'persons', 'systematic', 'review', 'and', 'spielau', 'ranhoff', 'vitamin', 'supplementation', 'and', 'its', 'influence', 'muscle', 'strength', 'and', 'mobility', 'communitydwelling', 'older', 'persons', 'systematic', 'review', 'and', 'metaanalysis', 'journal', 'human', 'nutrition', 'and', 'dietetics', 'malden', 'massachusetts', 'wileyblackwell', 'correction', 'the', 'article', 'vitamin', 'supplementation', 'and', 'its', 'influence', 'muscle', 'strength', 'and', 'mobility', 'communitydwelling', 'older', 'persons', 'systematic', 'review', 'and', 'metaanalysis', 'that', 'was', 'published', 'issue', 'the', 'periodical', 'presented', 'building', 'and', 'using', 'apps', 'library', 'for', 'people', 'living', 'with', 'dementia', 'and', 'their', 'carers', 'international', 'psychogeriatrics', 'maurice', 'mulvenna', 'school', 'computing', 'ulster', 'university', 'for', 'soo', 'hun', 'digital', 'health', 'care', 'northern', 'ireland', 'health', 'and', 'social', 'care', 'boardpresentation']\n"
     ]
    }
   ],
   "source": [
    "#4. Split tokens into words, also removes white-space\n",
    "abstract_words = [word for word in abstract_tokens if word.isalpha()]\n",
    "print(abstract_words[:100])"
   ]
  },
  {
   "cell_type": "code",
   "execution_count": 12,
   "id": "7d5390a8",
   "metadata": {},
   "outputs": [
    {
     "name": "stdout",
     "output_type": "stream",
     "text": [
      "['i', 'me', 'my', 'myself', 'we', 'our', 'ours', 'ourselves', 'you', \"you're\", \"you've\", \"you'll\", \"you'd\", 'your', 'yours', 'yourself', 'yourselves', 'he', 'him', 'his', 'himself', 'she', \"she's\", 'her', 'hers', 'herself', 'it', \"it's\", 'its', 'itself', 'they', 'them', 'their', 'theirs', 'themselves', 'what', 'which', 'who', 'whom', 'this', 'that', \"that'll\", 'these', 'those', 'am', 'is', 'are', 'was', 'were', 'be', 'been', 'being', 'have', 'has', 'had', 'having', 'do', 'does', 'did', 'doing', 'a', 'an', 'the', 'and', 'but', 'if', 'or', 'because', 'as', 'until', 'while', 'of', 'at', 'by', 'for', 'with', 'about', 'against', 'between', 'into', 'through', 'during', 'before', 'after', 'above', 'below', 'to', 'from', 'up', 'down', 'in', 'out', 'on', 'off', 'over', 'under', 'again', 'further', 'then', 'once', 'here', 'there', 'when', 'where', 'why', 'how', 'all', 'any', 'both', 'each', 'few', 'more', 'most', 'other', 'some', 'such', 'no', 'nor', 'not', 'only', 'own', 'same', 'so', 'than', 'too', 'very', 's', 't', 'can', 'will', 'just', 'don', \"don't\", 'should', \"should've\", 'now', 'd', 'll', 'm', 'o', 're', 've', 'y', 'ain', 'aren', \"aren't\", 'couldn', \"couldn't\", 'didn', \"didn't\", 'doesn', \"doesn't\", 'hadn', \"hadn't\", 'hasn', \"hasn't\", 'haven', \"haven't\", 'isn', \"isn't\", 'ma', 'mightn', \"mightn't\", 'mustn', \"mustn't\", 'needn', \"needn't\", 'shan', \"shan't\", 'shouldn', \"shouldn't\", 'wasn', \"wasn't\", 'weren', \"weren't\", 'won', \"won't\", 'wouldn', \"wouldn't\"]\n"
     ]
    }
   ],
   "source": [
    "#5. Import common english stopwords\n",
    "#Creating a library of stop words\n",
    "from nltk.corpus import stopwords\n",
    "stop_words = stopwords.words(\"english\")\n",
    "print(stop_words)"
   ]
  },
  {
   "cell_type": "code",
   "execution_count": 13,
   "id": "7b20e9c6",
   "metadata": {},
   "outputs": [
    {
     "name": "stdout",
     "output_type": "stream",
     "text": [
      "['vitamin', 'supplementation', 'influence', 'muscle', 'strength', 'mobility', 'older', 'persons', 'systematic', 'review', 'spielau', 'ranhoff', 'vitamin', 'supplementation', 'influence', 'muscle', 'strength', 'mobility', 'communitydwelling', 'older', 'persons', 'systematic', 'review', 'metaanalysis', 'journal', 'human', 'nutrition', 'dietetics', 'malden', 'massachusetts', 'wileyblackwell', 'correction', 'article', 'vitamin', 'supplementation', 'influence', 'muscle', 'strength', 'mobility', 'communitydwelling', 'older', 'persons', 'systematic', 'review', 'metaanalysis', 'published', 'issue', 'periodical', 'presented', 'building', 'using', 'apps', 'library', 'people', 'living', 'dementia', 'carers', 'international', 'psychogeriatrics', 'maurice', 'mulvenna', 'school', 'computing', 'ulster', 'university', 'soo', 'hun', 'digital', 'health', 'care', 'northern', 'ireland', 'health', 'social', 'care', 'boardpresentation', 'apps', 'library', 'digital', 'resource', 'people', 'living', 'dementia', 'carers', 'soo', 'hun', 'programme', 'manager', 'digital', 'health', 'care', 'northern', 'ireland', 'health', 'social', 'care', 'boardpresentation', 'development', 'clear', 'dementia']\n"
     ]
    }
   ],
   "source": [
    "#6. Creating for loop to iterate through abstract text and remove stop words that match with the dictionary.\n",
    "abstract_swords = [w for w in abstract_words if not w in stop_words]\n",
    "print(abstract_swords[:100])"
   ]
  },
  {
   "cell_type": "code",
   "execution_count": 14,
   "id": "2f31349e",
   "metadata": {},
   "outputs": [
    {
     "data": {
      "text/plain": [
       "407548"
      ]
     },
     "execution_count": 14,
     "metadata": {},
     "output_type": "execute_result"
    }
   ],
   "source": [
    "len(abstract_swords)\n",
    "#Removal of 123,299 strings from list - removal through elimination by len (word len >2), whitespace removal, punctuation removal, stopword removal"
   ]
  }
 ],
 "metadata": {
  "kernelspec": {
   "display_name": "Python 3.9.7 ('base')",
   "language": "python",
   "name": "python3"
  },
  "language_info": {
   "codemirror_mode": {
    "name": "ipython",
    "version": 3
   },
   "file_extension": ".py",
   "mimetype": "text/x-python",
   "name": "python",
   "nbconvert_exporter": "python",
   "pygments_lexer": "ipython3",
   "version": "3.9.7"
  },
  "vscode": {
   "interpreter": {
    "hash": "a4398e896c12154bcd60478abf8cf860035a05fd93eb9e81b76dba032c779426"
   }
  }
 },
 "nbformat": 4,
 "nbformat_minor": 5
}
